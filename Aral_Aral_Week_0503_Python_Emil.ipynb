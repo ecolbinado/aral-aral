{
  "nbformat": 4,
  "nbformat_minor": 0,
  "metadata": {
    "kernelspec": {
      "display_name": "Python [conda env:ml-env]",
      "language": "python",
      "name": "conda-env-ml-env-py"
    },
    "language_info": {
      "codemirror_mode": {
        "name": "ipython",
        "version": 3
      },
      "file_extension": ".py",
      "mimetype": "text/x-python",
      "name": "python",
      "nbconvert_exporter": "python",
      "pygments_lexer": "ipython3",
      "version": "3.6.7"
    },
    "latex_envs": {
      "LaTeX_envs_menu_present": true,
      "autoclose": false,
      "autocomplete": true,
      "bibliofile": "biblio.bib",
      "cite_by": "apalike",
      "current_citInitial": 1,
      "eqLabelWithNumbers": true,
      "eqNumInitial": 1,
      "hotkeys": {
        "equation": "Ctrl-E",
        "itemize": "Ctrl-I"
      },
      "labels_anchors": false,
      "latex_user_defs": false,
      "report_style_numbering": false,
      "user_envs_cfg": false
    },
    "toc": {
      "base_numbering": 1,
      "nav_menu": {},
      "number_sections": true,
      "sideBar": true,
      "skip_h1_title": false,
      "title_cell": "Table of Contents",
      "title_sidebar": "Contents",
      "toc_cell": false,
      "toc_position": {},
      "toc_section_display": true,
      "toc_window_display": false
    },
    "varInspector": {
      "cols": {
        "lenName": 16,
        "lenType": 16,
        "lenVar": 40
      },
      "kernels_config": {
        "python": {
          "delete_cmd_postfix": "",
          "delete_cmd_prefix": "del ",
          "library": "var_list.py",
          "varRefreshCmd": "print(var_dic_list())"
        },
        "r": {
          "delete_cmd_postfix": ") ",
          "delete_cmd_prefix": "rm(",
          "library": "var_list.r",
          "varRefreshCmd": "cat(var_dic_list()) "
        }
      },
      "types_to_exclude": [
        "module",
        "function",
        "builtin_function_or_method",
        "instance",
        "_Feature"
      ],
      "window_display": false
    },
    "colab": {
      "name": "Aral-Aral_Week_0503_Python_Emil.ipynb",
      "version": "0.3.2",
      "provenance": [],
      "collapsed_sections": [],
      "include_colab_link": true
    }
  },
  "cells": [
    {
      "cell_type": "markdown",
      "metadata": {
        "id": "view-in-github",
        "colab_type": "text"
      },
      "source": [
        "<a href=\"https://colab.research.google.com/github/ecolbinado/aral-aral-python-exercises/blob/master/Aral_Aral_Week_0503_Python_Emil.ipynb\" target=\"_parent\"><img src=\"https://colab.research.google.com/assets/colab-badge.svg\" alt=\"Open In Colab\"/></a>"
      ]
    },
    {
      "cell_type": "markdown",
      "metadata": {
        "id": "fMkaZkn_FAP6",
        "colab_type": "text"
      },
      "source": [
        "# Aral-Aral Week 5 Day 3: Python\n",
        "\n",
        "**Direction**\n",
        "\n",
        "Provide each cell with Python code that best satisfies the instruction before it."
      ]
    },
    {
      "cell_type": "markdown",
      "metadata": {
        "id": "MxHHZ0KcFAP9",
        "colab_type": "text"
      },
      "source": [
        "## Numerical Data"
      ]
    },
    {
      "cell_type": "markdown",
      "metadata": {
        "id": "lbjVqCMKFAP-",
        "colab_type": "text"
      },
      "source": [
        "```python\n",
        "# 1. Declare statements to import NumPy, Pandas, and Matplotlib.pyplot.\n",
        "```"
      ]
    },
    {
      "cell_type": "code",
      "metadata": {
        "ExecuteTime": {
          "end_time": "2019-09-03T16:26:47.190923Z",
          "start_time": "2019-09-03T16:26:46.662153Z"
        },
        "id": "daTQKzToFAQB",
        "colab_type": "code",
        "colab": {}
      },
      "source": [
        "# TYPE ANSWER HERE\n",
        "import numpy as np\n",
        "import pandas as pd\n",
        "import matplotlib.pyplot as plt"
      ],
      "execution_count": 0,
      "outputs": []
    },
    {
      "cell_type": "markdown",
      "metadata": {
        "id": "eo8bRJJ7FAQI",
        "colab_type": "text"
      },
      "source": [
        "```python\n",
        "# 2. Create a seed with a set value 42 using Numpy for random number generation.\n",
        "```"
      ]
    },
    {
      "cell_type": "code",
      "metadata": {
        "ExecuteTime": {
          "end_time": "2019-09-03T16:26:48.380420Z",
          "start_time": "2019-09-03T16:26:48.373539Z"
        },
        "id": "ptcsLU-ZFAQJ",
        "colab_type": "code",
        "colab": {}
      },
      "source": [
        "# TYPE ANSWER HERE\n",
        "np.random.seed(42)"
      ],
      "execution_count": 0,
      "outputs": []
    },
    {
      "cell_type": "markdown",
      "metadata": {
        "id": "9viZFwXTFAQP",
        "colab_type": "text"
      },
      "source": [
        "```python\n",
        "# 3. First, create a seed with a set value 1337 using Numpy.\n",
        "#    Then, create a 10x3 Numpy array named `foo` filled with random integers.\n",
        "```"
      ]
    },
    {
      "cell_type": "code",
      "metadata": {
        "ExecuteTime": {
          "end_time": "2019-09-03T16:26:49.215819Z",
          "start_time": "2019-09-03T16:26:49.196653Z"
        },
        "id": "8g-dK_RwFAQQ",
        "colab_type": "code",
        "outputId": "da14fa64-f0b9-484d-9f17-de8016c11a52",
        "colab": {
          "base_uri": "https://localhost:8080/",
          "height": 187
        }
      },
      "source": [
        "# TYPE ANSWER HERE\n",
        "np.random.seed(1337)\n",
        "foo = np.random.randint(1,9, size=(10,3))\n",
        "foo"
      ],
      "execution_count": 4,
      "outputs": [
        {
          "output_type": "execute_result",
          "data": {
            "text/plain": [
              "array([[8, 6, 5],\n",
              "       [1, 8, 2],\n",
              "       [8, 3, 3],\n",
              "       [3, 5, 1],\n",
              "       [2, 7, 7],\n",
              "       [3, 8, 1],\n",
              "       [2, 4, 6],\n",
              "       [7, 7, 3],\n",
              "       [3, 2, 1],\n",
              "       [4, 2, 5]])"
            ]
          },
          "metadata": {
            "tags": []
          },
          "execution_count": 4
        }
      ]
    },
    {
      "cell_type": "markdown",
      "metadata": {
        "id": "Guo_M6CKFAQU",
        "colab_type": "text"
      },
      "source": [
        "## Data Manipulation"
      ]
    },
    {
      "cell_type": "markdown",
      "metadata": {
        "id": "wRDLBu_SFAQU",
        "colab_type": "text"
      },
      "source": [
        "```python\n",
        "# 4. Convert `foo` into a Pandas dataframe named `bar`.\n",
        "#    Set column names to 'spam', 'ham', 'eggs'.\n",
        "```"
      ]
    },
    {
      "cell_type": "code",
      "metadata": {
        "ExecuteTime": {
          "end_time": "2019-09-03T16:26:50.257620Z",
          "start_time": "2019-09-03T16:26:50.233184Z"
        },
        "id": "x_CZWKkHFAQV",
        "colab_type": "code",
        "outputId": "e7391a8b-2e07-4296-a8bf-2ceb00ff9e46",
        "colab": {
          "base_uri": "https://localhost:8080/",
          "height": 359
        }
      },
      "source": [
        "# TYPE ANSWER HERE\n",
        "bar = pd.DataFrame(foo, columns=['spam', 'ham', 'eggs'])\n",
        "bar"
      ],
      "execution_count": 5,
      "outputs": [
        {
          "output_type": "execute_result",
          "data": {
            "text/html": [
              "<div>\n",
              "<style scoped>\n",
              "    .dataframe tbody tr th:only-of-type {\n",
              "        vertical-align: middle;\n",
              "    }\n",
              "\n",
              "    .dataframe tbody tr th {\n",
              "        vertical-align: top;\n",
              "    }\n",
              "\n",
              "    .dataframe thead th {\n",
              "        text-align: right;\n",
              "    }\n",
              "</style>\n",
              "<table border=\"1\" class=\"dataframe\">\n",
              "  <thead>\n",
              "    <tr style=\"text-align: right;\">\n",
              "      <th></th>\n",
              "      <th>spam</th>\n",
              "      <th>ham</th>\n",
              "      <th>eggs</th>\n",
              "    </tr>\n",
              "  </thead>\n",
              "  <tbody>\n",
              "    <tr>\n",
              "      <th>0</th>\n",
              "      <td>8</td>\n",
              "      <td>6</td>\n",
              "      <td>5</td>\n",
              "    </tr>\n",
              "    <tr>\n",
              "      <th>1</th>\n",
              "      <td>1</td>\n",
              "      <td>8</td>\n",
              "      <td>2</td>\n",
              "    </tr>\n",
              "    <tr>\n",
              "      <th>2</th>\n",
              "      <td>8</td>\n",
              "      <td>3</td>\n",
              "      <td>3</td>\n",
              "    </tr>\n",
              "    <tr>\n",
              "      <th>3</th>\n",
              "      <td>3</td>\n",
              "      <td>5</td>\n",
              "      <td>1</td>\n",
              "    </tr>\n",
              "    <tr>\n",
              "      <th>4</th>\n",
              "      <td>2</td>\n",
              "      <td>7</td>\n",
              "      <td>7</td>\n",
              "    </tr>\n",
              "    <tr>\n",
              "      <th>5</th>\n",
              "      <td>3</td>\n",
              "      <td>8</td>\n",
              "      <td>1</td>\n",
              "    </tr>\n",
              "    <tr>\n",
              "      <th>6</th>\n",
              "      <td>2</td>\n",
              "      <td>4</td>\n",
              "      <td>6</td>\n",
              "    </tr>\n",
              "    <tr>\n",
              "      <th>7</th>\n",
              "      <td>7</td>\n",
              "      <td>7</td>\n",
              "      <td>3</td>\n",
              "    </tr>\n",
              "    <tr>\n",
              "      <th>8</th>\n",
              "      <td>3</td>\n",
              "      <td>2</td>\n",
              "      <td>1</td>\n",
              "    </tr>\n",
              "    <tr>\n",
              "      <th>9</th>\n",
              "      <td>4</td>\n",
              "      <td>2</td>\n",
              "      <td>5</td>\n",
              "    </tr>\n",
              "  </tbody>\n",
              "</table>\n",
              "</div>"
            ],
            "text/plain": [
              "   spam  ham  eggs\n",
              "0     8    6     5\n",
              "1     1    8     2\n",
              "2     8    3     3\n",
              "3     3    5     1\n",
              "4     2    7     7\n",
              "5     3    8     1\n",
              "6     2    4     6\n",
              "7     7    7     3\n",
              "8     3    2     1\n",
              "9     4    2     5"
            ]
          },
          "metadata": {
            "tags": []
          },
          "execution_count": 5
        }
      ]
    },
    {
      "cell_type": "markdown",
      "metadata": {
        "id": "ikVoLSAMFAQZ",
        "colab_type": "text"
      },
      "source": [
        "```python\n",
        "# 5. Select column 'spam' from `bar` and convert it into a Pandas series \n",
        "#    named `baz`.\n",
        "```"
      ]
    },
    {
      "cell_type": "code",
      "metadata": {
        "ExecuteTime": {
          "end_time": "2019-09-03T16:26:51.253836Z",
          "start_time": "2019-09-03T16:26:51.246223Z"
        },
        "id": "WN4HX-K1FAQa",
        "colab_type": "code",
        "outputId": "fd59174c-8864-4375-b088-a2a268daada7",
        "colab": {
          "base_uri": "https://localhost:8080/",
          "height": 204
        }
      },
      "source": [
        "# TYPE ANSWER HERE\n",
        "baz = pd.Series(bar['spam'])\n",
        "baz"
      ],
      "execution_count": 6,
      "outputs": [
        {
          "output_type": "execute_result",
          "data": {
            "text/plain": [
              "0    8\n",
              "1    1\n",
              "2    8\n",
              "3    3\n",
              "4    2\n",
              "5    3\n",
              "6    2\n",
              "7    7\n",
              "8    3\n",
              "9    4\n",
              "Name: spam, dtype: int64"
            ]
          },
          "metadata": {
            "tags": []
          },
          "execution_count": 6
        }
      ]
    },
    {
      "cell_type": "markdown",
      "metadata": {
        "id": "GT_J2xbdFAQe",
        "colab_type": "text"
      },
      "source": [
        "```python\n",
        "# 6. Select column 'ham' and 'eggs' from `bar` and convert it into \n",
        "#    Pandas dataframe named `foobar`.\n",
        "```"
      ]
    },
    {
      "cell_type": "code",
      "metadata": {
        "ExecuteTime": {
          "end_time": "2019-09-03T16:26:52.365138Z",
          "start_time": "2019-09-03T16:26:52.348731Z"
        },
        "id": "y1R3_2btFAQf",
        "colab_type": "code",
        "outputId": "0e422549-f953-4c88-d9db-01b9dcf10545",
        "colab": {
          "base_uri": "https://localhost:8080/",
          "height": 376
        }
      },
      "source": [
        "# TYPE ANSWER HERE\n",
        "foobar = bar[['ham','eggs']]\n",
        "print(type(foobar))\n",
        "foobar"
      ],
      "execution_count": 56,
      "outputs": [
        {
          "output_type": "stream",
          "text": [
            "<class 'pandas.core.frame.DataFrame'>\n"
          ],
          "name": "stdout"
        },
        {
          "output_type": "execute_result",
          "data": {
            "text/html": [
              "<div>\n",
              "<style scoped>\n",
              "    .dataframe tbody tr th:only-of-type {\n",
              "        vertical-align: middle;\n",
              "    }\n",
              "\n",
              "    .dataframe tbody tr th {\n",
              "        vertical-align: top;\n",
              "    }\n",
              "\n",
              "    .dataframe thead th {\n",
              "        text-align: right;\n",
              "    }\n",
              "</style>\n",
              "<table border=\"1\" class=\"dataframe\">\n",
              "  <thead>\n",
              "    <tr style=\"text-align: right;\">\n",
              "      <th></th>\n",
              "      <th>ham</th>\n",
              "      <th>eggs</th>\n",
              "    </tr>\n",
              "  </thead>\n",
              "  <tbody>\n",
              "    <tr>\n",
              "      <th>0</th>\n",
              "      <td>6</td>\n",
              "      <td>5</td>\n",
              "    </tr>\n",
              "    <tr>\n",
              "      <th>1</th>\n",
              "      <td>8</td>\n",
              "      <td>2</td>\n",
              "    </tr>\n",
              "    <tr>\n",
              "      <th>2</th>\n",
              "      <td>3</td>\n",
              "      <td>3</td>\n",
              "    </tr>\n",
              "    <tr>\n",
              "      <th>3</th>\n",
              "      <td>5</td>\n",
              "      <td>1</td>\n",
              "    </tr>\n",
              "    <tr>\n",
              "      <th>4</th>\n",
              "      <td>7</td>\n",
              "      <td>7</td>\n",
              "    </tr>\n",
              "    <tr>\n",
              "      <th>5</th>\n",
              "      <td>8</td>\n",
              "      <td>1</td>\n",
              "    </tr>\n",
              "    <tr>\n",
              "      <th>6</th>\n",
              "      <td>4</td>\n",
              "      <td>6</td>\n",
              "    </tr>\n",
              "    <tr>\n",
              "      <th>7</th>\n",
              "      <td>7</td>\n",
              "      <td>3</td>\n",
              "    </tr>\n",
              "    <tr>\n",
              "      <th>8</th>\n",
              "      <td>2</td>\n",
              "      <td>1</td>\n",
              "    </tr>\n",
              "    <tr>\n",
              "      <th>9</th>\n",
              "      <td>2</td>\n",
              "      <td>5</td>\n",
              "    </tr>\n",
              "  </tbody>\n",
              "</table>\n",
              "</div>"
            ],
            "text/plain": [
              "   ham  eggs\n",
              "0    6     5\n",
              "1    8     2\n",
              "2    3     3\n",
              "3    5     1\n",
              "4    7     7\n",
              "5    8     1\n",
              "6    4     6\n",
              "7    7     3\n",
              "8    2     1\n",
              "9    2     5"
            ]
          },
          "metadata": {
            "tags": []
          },
          "execution_count": 56
        }
      ]
    },
    {
      "cell_type": "markdown",
      "metadata": {
        "id": "a2c1Vt7dFAQp",
        "colab_type": "text"
      },
      "source": [
        "## Visualization"
      ]
    },
    {
      "cell_type": "markdown",
      "metadata": {
        "id": "w0065cUDFAQs",
        "colab_type": "text"
      },
      "source": [
        "```python\n",
        "# 7. Plot column `eggs` from `foobar` as a bar graph. Add figure title and labels.\n",
        "```\n",
        "![](aa_0503_bar.png)"
      ]
    },
    {
      "cell_type": "code",
      "metadata": {
        "ExecuteTime": {
          "end_time": "2019-09-03T16:59:57.126649Z",
          "start_time": "2019-09-03T16:59:56.994166Z"
        },
        "id": "_ms-zVdHFAQv",
        "colab_type": "code",
        "colab": {
          "base_uri": "https://localhost:8080/",
          "height": 295
        },
        "outputId": "76a8c149-1415-4586-9162-bbb3e9ca13a2"
      },
      "source": [
        "# TYPE ANSWER HERE\n",
        "x = np.linspace(0, 9, 10)\n",
        "plt.bar(x,foobar['eggs'], align=\"center\", width=0.5, alpha=0.5)\n",
        "plt.title(\"Bar Chart\")\n",
        "plt.xlabel(\"Index\")\n",
        "plt.ylabel(\"Eggs\")\n",
        "plt.show()"
      ],
      "execution_count": 30,
      "outputs": [
        {
          "output_type": "display_data",
          "data": {
            "image/png": "[encoded data removed]",
            "text/plain": [
              "<Figure size 432x288 with 1 Axes>"
            ]
          },
          "metadata": {
            "tags": []
          }
        }
      ]
    },
    {
      "cell_type": "markdown",
      "metadata": {
        "id": "wqe2P8wNFAQ1",
        "colab_type": "text"
      },
      "source": [
        "```python\n",
        "# 8. Plot column 'spam' on x-axis and column 'eggs' on y-axis from `bar` as a\n",
        "#    scatter plot. Add figure title and labels.\n",
        "```\n",
        "![](aa_0503_scatter.png)"
      ]
    },
    {
      "cell_type": "code",
      "metadata": {
        "ExecuteTime": {
          "end_time": "2019-09-03T16:53:31.755684Z",
          "start_time": "2019-09-03T16:53:31.317481Z"
        },
        "id": "IYgm8jSXFAQ4",
        "colab_type": "code",
        "colab": {
          "base_uri": "https://localhost:8080/",
          "height": 295
        },
        "outputId": "d7efb507-f995-4b6e-8271-eabf3a0188c0"
      },
      "source": [
        "# TYPE ANSWER HERE\n",
        "plt.scatter(bar['spam'],bar['eggs'])\n",
        "plt.title(\"Scatter Plot\")\n",
        "plt.xlabel(\"Spam\")\n",
        "plt.ylabel(\"Eggs\")\n",
        "plt.show()"
      ],
      "execution_count": 34,
      "outputs": [
        {
          "output_type": "display_data",
          "data": {
            "image/png": "[encoded data removed]",
            "text/plain": [
              "<Figure size 432x288 with 1 Axes>"
            ]
          },
          "metadata": {
            "tags": []
          }
        }
      ]
    },
    {
      "cell_type": "markdown",
      "metadata": {
        "id": "kj1gD0erFAQ8",
        "colab_type": "text"
      },
      "source": [
        "```python\n",
        "# 9. Plot columns 'ham' and 'eggs' from `bar` as box plots.\n",
        "#    Add figure title and labels.\n",
        "```\n",
        "![](aa_0503_box.png)"
      ]
    },
    {
      "cell_type": "code",
      "metadata": {
        "ExecuteTime": {
          "end_time": "2019-09-03T16:53:05.266725Z",
          "start_time": "2019-09-03T16:53:04.941692Z"
        },
        "id": "R_e4Szm_FAQ-",
        "colab_type": "code",
        "colab": {
          "base_uri": "https://localhost:8080/",
          "height": 269
        },
        "outputId": "e8adf44b-b9e2-44ff-fdde-4806afc5831d"
      },
      "source": [
        "# TYPE ANSWER HERE\n",
        "data = [bar['ham'],bar['eggs']]\n",
        "plt.boxplot(data)\n",
        "plt.show()"
      ],
      "execution_count": 50,
      "outputs": [
        {
          "output_type": "display_data",
          "data": {
            "image/png": "[encoded data removed]",
            "text/plain": [
              "<Figure size 432x288 with 1 Axes>"
            ]
          },
          "metadata": {
            "tags": []
          }
        }
      ]
    },
    {
      "cell_type": "code",
      "metadata": {
        "id": "pqh_KiDkGh3i",
        "colab_type": "code",
        "colab": {}
      },
      "source": [
        ""
      ],
      "execution_count": 0,
      "outputs": []
    }
  ]
}