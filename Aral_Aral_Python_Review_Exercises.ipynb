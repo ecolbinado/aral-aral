{
  "nbformat": 4,
  "nbformat_minor": 0,
  "metadata": {
    "kernelspec": {
      "display_name": "Python 3",
      "language": "python",
      "name": "python3"
    },
    "language_info": {
      "codemirror_mode": {
        "name": "ipython",
        "version": 3
      },
      "file_extension": ".py",
      "mimetype": "text/x-python",
      "name": "python",
      "nbconvert_exporter": "python",
      "pygments_lexer": "ipython3",
      "version": "3.7.1"
    },
    "colab": {
      "name": "Aral-Aral Python Review Exercises.ipynb",
      "version": "0.3.2",
      "provenance": [],
      "include_colab_link": true
    }
  },
  "cells": [
    {
      "cell_type": "markdown",
      "metadata": {
        "id": "view-in-github",
        "colab_type": "text"
      },
      "source": [
        "<a href=\"https://colab.research.google.com/github/ecolbinado/aral-aral/blob/master/Aral_Aral_Python_Review_Exercises.ipynb\" target=\"_parent\"><img src=\"https://colab.research.google.com/assets/colab-badge.svg\" alt=\"Open In Colab\"/></a>"
      ]
    },
    {
      "cell_type": "markdown",
      "metadata": {
        "id": "yJCs84SM5J8i",
        "colab_type": "text"
      },
      "source": [
        "<h3 id=\"exercise\">Exercise: Your First Program</h3>\n",
        "<p>Generations of programmers have started their coding careers by simply printing \"Hello, world!\". You will be following in their footsteps.</p>\n",
        "<p>In the code cell below, use the <code>print()</code> function to print out the phrase: <code>Hello, world!</code></p>"
      ]
    },
    {
      "cell_type": "code",
      "metadata": {
        "id": "eifSIQ825J8q",
        "colab_type": "code",
        "outputId": "91e2f4b0-5e75-4e88-a174-4af7eeffabe7",
        "colab": {
          "base_uri": "https://localhost:8080/",
          "height": 34
        }
      },
      "source": [
        "# Write your code below and press Shift+Enter to execute \n",
        "print(\"Hello, world!\")"
      ],
      "execution_count": 0,
      "outputs": [
        {
          "output_type": "stream",
          "text": [
            "Hello, world!\n"
          ],
          "name": "stdout"
        }
      ]
    },
    {
      "cell_type": "markdown",
      "metadata": {
        "id": "oJkG7tuu5J9O",
        "colab_type": "text"
      },
      "source": [
        "<p>Now, let's enhance your code with a comment. In the code cell below, print out the phrase: <code>Hello, world!</code> and comment it with the phrase <code>Print the traditional hello world</code> all in one line of code.</p>"
      ]
    },
    {
      "cell_type": "code",
      "metadata": {
        "id": "3sUxWRv85J9R",
        "colab_type": "code",
        "outputId": "b5f0f9d8-14b0-4a8a-a18e-c4dee62b932c",
        "colab": {
          "base_uri": "https://localhost:8080/",
          "height": 34
        }
      },
      "source": [
        "# Write your code below and press Shift+Enter to execute \n",
        "# Print the traditional hello world\n",
        "print(\"Hello, world!\") #Print the traditional hello world all in one line of code."
      ],
      "execution_count": 0,
      "outputs": [
        {
          "output_type": "stream",
          "text": [
            "Hello, world!\n"
          ],
          "name": "stdout"
        }
      ]
    },
    {
      "cell_type": "markdown",
      "metadata": {
        "id": "nuVippdx5J9z",
        "colab_type": "text"
      },
      "source": [
        "<h3 id=\"exer_type\">Exercise: Types</h3>\n",
        "<p>In the code cell below, use the <code>type()</code> function to check the object type of <code>12.0</code>."
      ]
    },
    {
      "cell_type": "code",
      "metadata": {
        "id": "VnKX9D0l5J93",
        "colab_type": "code",
        "outputId": "248505fa-f260-435d-b1a9-dd637631e0d2",
        "colab": {
          "base_uri": "https://localhost:8080/",
          "height": 34
        }
      },
      "source": [
        "# Write your code below. Don't forget to press Shift+Enter to execute the cell\n",
        "# float\n",
        "type(12.0)"
      ],
      "execution_count": 0,
      "outputs": [
        {
          "output_type": "execute_result",
          "data": {
            "text/plain": [
              "float"
            ]
          },
          "metadata": {
            "tags": []
          },
          "execution_count": 4
        }
      ]
    },
    {
      "cell_type": "markdown",
      "metadata": {
        "id": "TO0tkIeV5J-M",
        "colab_type": "text"
      },
      "source": [
        "<p>What is the data type of the result of: <code>6 / 2</code>?</p>"
      ]
    },
    {
      "cell_type": "code",
      "metadata": {
        "id": "ssSjT0mI5J-R",
        "colab_type": "code",
        "outputId": "26d5361f-0a2f-4be6-c6e0-c8302998c43a",
        "colab": {
          "base_uri": "https://localhost:8080/",
          "height": 34
        }
      },
      "source": [
        "# Write your code below. Don't forget to press Shift+Enter to execute the cell\n",
        "# float\n",
        "type(6/2)"
      ],
      "execution_count": 0,
      "outputs": [
        {
          "output_type": "execute_result",
          "data": {
            "text/plain": [
              "float"
            ]
          },
          "metadata": {
            "tags": []
          },
          "execution_count": 7
        }
      ]
    },
    {
      "cell_type": "markdown",
      "metadata": {
        "id": "puyKYQCI5J-n",
        "colab_type": "text"
      },
      "source": [
        "<p>What is the type of the result of: <code>6 // 2</code>? (Note the double slash <code>//</code>.)</p>"
      ]
    },
    {
      "cell_type": "code",
      "metadata": {
        "id": "_Tz7RQ4f5J-r",
        "colab_type": "code",
        "outputId": "cd053992-205b-4352-87cb-6ce9faf14300",
        "colab": {
          "base_uri": "https://localhost:8080/",
          "height": 34
        }
      },
      "source": [
        "# Write your code below. Don't forget to press Shift+Enter to execute the cell\n",
        "# int, as the double slashes stand for integer division \n",
        "type(6//2)"
      ],
      "execution_count": 0,
      "outputs": [
        {
          "output_type": "execute_result",
          "data": {
            "text/plain": [
              "int"
            ]
          },
          "metadata": {
            "tags": []
          },
          "execution_count": 8
        }
      ]
    },
    {
      "cell_type": "markdown",
      "metadata": {
        "id": "Sp96APSI5J_B",
        "colab_type": "text"
      },
      "source": [
        "<h3 id=\"exer_exp\">Exercise: Expression</h3>\n",
        "<p>Let's write an expression that calculates how many hours there are in 160 minutes:"
      ]
    },
    {
      "cell_type": "code",
      "metadata": {
        "id": "g73VuAS15J_F",
        "colab_type": "code",
        "outputId": "805d0eb5-ad85-4396-a47d-dab664eeb5c9",
        "colab": {
          "base_uri": "https://localhost:8080/",
          "height": 34
        }
      },
      "source": [
        "# Write your code below. Don't forget to press Shift+Enter to execute the cell\n",
        "# Or\n",
        "\n",
        "from math import floor as flr\n",
        "\n",
        "def calculateHours(num_min):\n",
        "  # Returns the number of hour/s (a whole number) given minutes.\n",
        "  return flr(num_min/60)\n",
        "\n",
        "calculateHours(160)"
      ],
      "execution_count": 0,
      "outputs": [
        {
          "output_type": "execute_result",
          "data": {
            "text/plain": [
              "2"
            ]
          },
          "metadata": {
            "tags": []
          },
          "execution_count": 16
        }
      ]
    },
    {
      "cell_type": "markdown",
      "metadata": {
        "id": "zgx5I0dc5J_U",
        "colab_type": "text"
      },
      "source": [
        "<h3 id=\"exer_exp_var\">Exercise: Expression and Variables in Python</h3>\n",
        "<p>What is the value of <code>x</code> where <code>x = 3 + 2 * 2</code></p>"
      ]
    },
    {
      "cell_type": "code",
      "metadata": {
        "id": "deLmMuq_5J_Y",
        "colab_type": "code",
        "outputId": "f7341eef-ddac-48b1-9791-f0d8718ddde1",
        "colab": {
          "base_uri": "https://localhost:8080/",
          "height": 34
        }
      },
      "source": [
        "# Write your code below. Don't forget to press Shift+Enter to execute the cell\n",
        "x = 3+2*2\n",
        "print(x)"
      ],
      "execution_count": 0,
      "outputs": [
        {
          "output_type": "stream",
          "text": [
            "7\n"
          ],
          "name": "stdout"
        }
      ]
    },
    {
      "cell_type": "markdown",
      "metadata": {
        "id": "pSLFCcgt5J_1",
        "colab_type": "text"
      },
      "source": [
        "<p>What is the value of <code>y</code> where <code>y = (3 + 2) * 2</code>?</p>"
      ]
    },
    {
      "cell_type": "code",
      "metadata": {
        "id": "m3DGIijE5J_5",
        "colab_type": "code",
        "outputId": "85568c9b-a480-48e2-9561-03e2a2ead0a8",
        "colab": {
          "base_uri": "https://localhost:8080/",
          "height": 34
        }
      },
      "source": [
        "# Write your code below. Don't forget to press Shift+Enter to execute the cell\n",
        "y = (3 + 2) * 2\n",
        "print(y)"
      ],
      "execution_count": 0,
      "outputs": [
        {
          "output_type": "stream",
          "text": [
            "10\n"
          ],
          "name": "stdout"
        }
      ]
    },
    {
      "cell_type": "markdown",
      "metadata": {
        "id": "ihNdBkEx5KAJ",
        "colab_type": "text"
      },
      "source": [
        "<p>What is the value of <code>z</code> where <code>z = x + y</code>?</p>"
      ]
    },
    {
      "cell_type": "code",
      "metadata": {
        "id": "BHUbN7RU5KAM",
        "colab_type": "code",
        "outputId": "25f19bf0-7493-4989-900e-46c3be25ea08",
        "colab": {
          "base_uri": "https://localhost:8080/",
          "height": 34
        }
      },
      "source": [
        "# Write your code below. Don't forget to press Shift+Enter to execute the cell\n",
        "z = x + y\n",
        "print(z)"
      ],
      "execution_count": 0,
      "outputs": [
        {
          "output_type": "stream",
          "text": [
            "17\n"
          ],
          "name": "stdout"
        }
      ]
    },
    {
      "cell_type": "markdown",
      "metadata": {
        "id": "awQnYEl05KAf",
        "colab_type": "text"
      },
      "source": [
        "<h2 id=\"quiz\">Quiz on Tuples</h2>\n",
        "\n",
        "Consider the following tuple:"
      ]
    },
    {
      "cell_type": "code",
      "metadata": {
        "id": "GO4hbwEw5KAj",
        "colab_type": "code",
        "outputId": "82b9a5d9-ce09-48ba-c4f5-a296f9ed9088",
        "colab": {
          "base_uri": "https://localhost:8080/",
          "height": 153
        }
      },
      "source": [
        "# sample tuple\n",
        "\n",
        "genres_tuple = (\"pop\", \"rock\", \"soul\", \"hard rock\", \"soft rock\", \\\n",
        "                \"R&B\", \"progressive rock\", \"disco\") \n",
        "genres_tuple"
      ],
      "execution_count": 0,
      "outputs": [
        {
          "output_type": "execute_result",
          "data": {
            "text/plain": [
              "('pop',\n",
              " 'rock',\n",
              " 'soul',\n",
              " 'hard rock',\n",
              " 'soft rock',\n",
              " 'R&B',\n",
              " 'progressive rock',\n",
              " 'disco')"
            ]
          },
          "metadata": {
            "tags": []
          },
          "execution_count": 24
        }
      ]
    },
    {
      "cell_type": "markdown",
      "metadata": {
        "id": "wUon5KYi5KAx",
        "colab_type": "text"
      },
      "source": [
        "Find the length of the tuple, <code>genres_tuple</code>:"
      ]
    },
    {
      "cell_type": "code",
      "metadata": {
        "id": "hdUH0Cvg5KA0",
        "colab_type": "code",
        "outputId": "40d622b8-a907-42b9-aae9-2950ba7a34df",
        "colab": {
          "base_uri": "https://localhost:8080/",
          "height": 34
        }
      },
      "source": [
        "# Write your code below and press Shift+Enter to execute\n",
        "len(genres_tuple)"
      ],
      "execution_count": 0,
      "outputs": [
        {
          "output_type": "execute_result",
          "data": {
            "text/plain": [
              "8"
            ]
          },
          "metadata": {
            "tags": []
          },
          "execution_count": 25
        }
      ]
    },
    {
      "cell_type": "markdown",
      "metadata": {
        "id": "f_0h3VSn5KBN",
        "colab_type": "text"
      },
      "source": [
        "Access the element, with respect to index 3: "
      ]
    },
    {
      "cell_type": "code",
      "metadata": {
        "id": "Xv4bcF515KBT",
        "colab_type": "code",
        "outputId": "d18375d4-c2fc-43d0-e362-f13c78051f95",
        "colab": {
          "base_uri": "https://localhost:8080/",
          "height": 34
        }
      },
      "source": [
        "# Write your code below and press Shift+Enter to execute\n",
        "genres_tuple[3]"
      ],
      "execution_count": 0,
      "outputs": [
        {
          "output_type": "execute_result",
          "data": {
            "text/plain": [
              "'hard rock'"
            ]
          },
          "metadata": {
            "tags": []
          },
          "execution_count": 26
        }
      ]
    },
    {
      "cell_type": "markdown",
      "metadata": {
        "id": "QhWkmXN-5KBo",
        "colab_type": "text"
      },
      "source": [
        "Use slicing to obtain indexes 3, 4 and 5:"
      ]
    },
    {
      "cell_type": "code",
      "metadata": {
        "id": "YmeXiA3w5KBu",
        "colab_type": "code",
        "outputId": "2a5fe3e3-86e9-457a-c3d6-27af16e7d0eb",
        "colab": {
          "base_uri": "https://localhost:8080/",
          "height": 34
        }
      },
      "source": [
        "# Write your code below and press Shift+Enter to execute\n",
        "genres_tuple[3:6]"
      ],
      "execution_count": 0,
      "outputs": [
        {
          "output_type": "execute_result",
          "data": {
            "text/plain": [
              "('hard rock', 'soft rock', 'R&B')"
            ]
          },
          "metadata": {
            "tags": []
          },
          "execution_count": 27
        }
      ]
    },
    {
      "cell_type": "markdown",
      "metadata": {
        "id": "C63b8LmX5KCL",
        "colab_type": "text"
      },
      "source": [
        "Find the first two elements of the tuple <code>genres_tuple</code>:"
      ]
    },
    {
      "cell_type": "code",
      "metadata": {
        "id": "_aCdlzKm5KCO",
        "colab_type": "code",
        "outputId": "571f97b4-d742-49d0-e8ef-f24c5a0da95c",
        "colab": {
          "base_uri": "https://localhost:8080/",
          "height": 34
        }
      },
      "source": [
        "# Write your code below and press Shift+Enter to execute\n",
        "genres_tuple[:2]"
      ],
      "execution_count": 0,
      "outputs": [
        {
          "output_type": "execute_result",
          "data": {
            "text/plain": [
              "('pop', 'rock')"
            ]
          },
          "metadata": {
            "tags": []
          },
          "execution_count": 28
        }
      ]
    },
    {
      "cell_type": "markdown",
      "metadata": {
        "id": "gGas0cdp5KCm",
        "colab_type": "text"
      },
      "source": [
        "Find the index of <code>\"disco\"</code>:"
      ]
    },
    {
      "cell_type": "code",
      "metadata": {
        "id": "0_iSLDWF5KCr",
        "colab_type": "code",
        "outputId": "1082e490-ca13-4de6-c086-c34ecb892bcf",
        "colab": {
          "base_uri": "https://localhost:8080/",
          "height": 34
        }
      },
      "source": [
        "# Write your code below and press Shift+Enter to execute\n",
        "genres_tuple.index(\"disco\")"
      ],
      "execution_count": 0,
      "outputs": [
        {
          "output_type": "execute_result",
          "data": {
            "text/plain": [
              "7"
            ]
          },
          "metadata": {
            "tags": []
          },
          "execution_count": 31
        }
      ]
    },
    {
      "cell_type": "markdown",
      "metadata": {
        "id": "DOIq1so95KC8",
        "colab_type": "text"
      },
      "source": [
        "Generate a sorted List from the Tuple <code>C_tuple=(-5, 1, -3)</code>:"
      ]
    },
    {
      "cell_type": "code",
      "metadata": {
        "id": "AOP-s0vY5KC_",
        "colab_type": "code",
        "outputId": "9dce9d7a-2243-4d8c-9cb7-63c26ff97abd",
        "colab": {
          "base_uri": "https://localhost:8080/",
          "height": 34
        }
      },
      "source": [
        "# Write your code below and press Shift+Enter to execute\n",
        "C_tuple=(-5, 1, -3)\n",
        "C_list = list(C_tuple)\n",
        "C_list_sorted = sorted(C_list)\n",
        "C_list_sorted"
      ],
      "execution_count": 0,
      "outputs": [
        {
          "output_type": "execute_result",
          "data": {
            "text/plain": [
              "[-5, -3, 1]"
            ]
          },
          "metadata": {
            "tags": []
          },
          "execution_count": 47
        }
      ]
    },
    {
      "cell_type": "markdown",
      "metadata": {
        "id": "RGP3Ntt05KDN",
        "colab_type": "text"
      },
      "source": [
        "<h2 id=\"quiz\">Quiz on List</h2>\n",
        "\n",
        "Create a list <code>a_list</code>, with the following elements <code>1</code>, <code>hello</code>, <code>[1,2,3]</code> and <code>True</code>. "
      ]
    },
    {
      "cell_type": "code",
      "metadata": {
        "id": "VqDCvx0p5KDU",
        "colab_type": "code",
        "outputId": "5059a292-98da-4269-d252-2c5bb7264520",
        "colab": {
          "base_uri": "https://localhost:8080/",
          "height": 34
        }
      },
      "source": [
        "# Write your code below and press Shift+Enter to execute\n",
        "a_list = [ 1, \"hello\", [1,2,3], True]\n",
        "a_list"
      ],
      "execution_count": 0,
      "outputs": [
        {
          "output_type": "execute_result",
          "data": {
            "text/plain": [
              "[1, 'hello', [1, 2, 3], True]"
            ]
          },
          "metadata": {
            "tags": []
          },
          "execution_count": 49
        }
      ]
    },
    {
      "cell_type": "markdown",
      "metadata": {
        "id": "qWoLXSG55KDm",
        "colab_type": "text"
      },
      "source": [
        "Find the value stored at index 1 of <code>a_list</code>."
      ]
    },
    {
      "cell_type": "code",
      "metadata": {
        "id": "sg8Yv_Fd5KDq",
        "colab_type": "code",
        "outputId": "00247536-7848-4749-e39c-d4388dd1981b",
        "colab": {
          "base_uri": "https://localhost:8080/",
          "height": 34
        }
      },
      "source": [
        "# Write your code below and press Shift+Enter to execute\n",
        "a_list[1]"
      ],
      "execution_count": 0,
      "outputs": [
        {
          "output_type": "execute_result",
          "data": {
            "text/plain": [
              "'hello'"
            ]
          },
          "metadata": {
            "tags": []
          },
          "execution_count": 50
        }
      ]
    },
    {
      "cell_type": "markdown",
      "metadata": {
        "id": "A9kNQep45KD_",
        "colab_type": "text"
      },
      "source": [
        "Retrieve the elements stored at index 1, 2 and 3 of <code>a_list</code>."
      ]
    },
    {
      "cell_type": "code",
      "metadata": {
        "id": "7-9opUPa5KEB",
        "colab_type": "code",
        "outputId": "11ee97f8-afbb-49aa-87aa-7ea14c6010b2",
        "colab": {
          "base_uri": "https://localhost:8080/",
          "height": 34
        }
      },
      "source": [
        "# Write your code below and press Shift+Enter to execute\n",
        "a_list[1:]"
      ],
      "execution_count": 0,
      "outputs": [
        {
          "output_type": "execute_result",
          "data": {
            "text/plain": [
              "['hello', [1, 2, 3], True]"
            ]
          },
          "metadata": {
            "tags": []
          },
          "execution_count": 51
        }
      ]
    },
    {
      "cell_type": "markdown",
      "metadata": {
        "id": "LwIR-Yz65KES",
        "colab_type": "text"
      },
      "source": [
        "Concatenate the following lists <code>A = [1, 'a']</code> and <code>B = [2, 1, 'd']</code>:"
      ]
    },
    {
      "cell_type": "code",
      "metadata": {
        "id": "fsDNHLq_5KEW",
        "colab_type": "code",
        "outputId": "f13d2687-fb32-45bb-a1a0-c85335c70e93",
        "colab": {
          "base_uri": "https://localhost:8080/",
          "height": 34
        }
      },
      "source": [
        "# Write your code below and press Shift+Enter to execute\n",
        "A = [1, 'a']\n",
        "B = [2, 1, 'd']\n",
        "concat_AB = A + B\n",
        "print(concat_AB)"
      ],
      "execution_count": 0,
      "outputs": [
        {
          "output_type": "stream",
          "text": [
            "[1, 'a', 2, 1, 'd']\n"
          ],
          "name": "stdout"
        }
      ]
    },
    {
      "cell_type": "markdown",
      "metadata": {
        "id": "7xfEf6835KE1",
        "colab_type": "text"
      },
      "source": [
        "<h2 id=\"quiz\">Quiz on Sets</h2>\n",
        "\n",
        "Convert the list <code>['rap','house','electronic music', 'rap']</code> to a set:"
      ]
    },
    {
      "cell_type": "code",
      "metadata": {
        "id": "ASPqgxZY5KE4",
        "colab_type": "code",
        "outputId": "7b4503f3-3ef3-4e98-f637-4e3f2b7e7a97",
        "colab": {
          "base_uri": "https://localhost:8080/",
          "height": 34
        }
      },
      "source": [
        "# Write your code below and press Shift+Enter to execute\n",
        "a_list = ['rap','house','electronic music', 'rap']\n",
        "a_set = set(a_list)\n",
        "print(a_set)"
      ],
      "execution_count": 0,
      "outputs": [
        {
          "output_type": "stream",
          "text": [
            "{'rap', 'house', 'electronic music'}\n"
          ],
          "name": "stdout"
        }
      ]
    },
    {
      "cell_type": "markdown",
      "metadata": {
        "id": "kEagZpcx5KFO",
        "colab_type": "text"
      },
      "source": [
        "Consider the list <code>A = [1, 2, 2, 1]</code> and set <code>B = set([1, 2, 2, 1])</code>, does <code>sum(A) = sum(B)</code> "
      ]
    },
    {
      "cell_type": "code",
      "metadata": {
        "id": "_d1dr07c5KFT",
        "colab_type": "code",
        "outputId": "04df4201-d714-482e-863a-809abca2d8f7",
        "colab": {
          "base_uri": "https://localhost:8080/",
          "height": 34
        }
      },
      "source": [
        "# Write your code below and press Shift+Enter to execute\n",
        "A = [1, 2, 2, 1]\n",
        "B = set([1, 2, 2, 1])\n",
        "\n",
        "if sum(A)==sum(B):\n",
        "  print(\"Yes! sum(A) = sum(B)\")\n",
        "else: \n",
        "  print(\"No! Type set must have a duplicate number.\")"
      ],
      "execution_count": 0,
      "outputs": [
        {
          "output_type": "stream",
          "text": [
            "No! Type set must have a duplicate number.\n"
          ],
          "name": "stdout"
        }
      ]
    },
    {
      "cell_type": "markdown",
      "metadata": {
        "id": "5vRRSaDy5KFk",
        "colab_type": "text"
      },
      "source": [
        "Create a new set <code>album_set3</code> that is the union of <code>album_set1</code> and <code>album_set2</code>:"
      ]
    },
    {
      "cell_type": "code",
      "metadata": {
        "id": "_jcrmwTr5KFo",
        "colab_type": "code",
        "outputId": "c00ee994-617e-4129-eda9-e418562791b0",
        "colab": {
          "base_uri": "https://localhost:8080/",
          "height": 34
        }
      },
      "source": [
        "# Write your code below and press Shift+Enter to execute\n",
        "album_set1 = {1,2,3,4,5}\n",
        "album_set2 = {4,5,6,7,8}\n",
        "album_set3 = album_set1 | album_set2\n",
        "print(album_set3)"
      ],
      "execution_count": 0,
      "outputs": [
        {
          "output_type": "stream",
          "text": [
            "{1, 2, 3, 4, 5, 6, 7, 8}\n"
          ],
          "name": "stdout"
        }
      ]
    },
    {
      "cell_type": "markdown",
      "metadata": {
        "id": "x3RpsLYr5KF4",
        "colab_type": "text"
      },
      "source": [
        "Find out if <code>album_set1</code> is a subset of <code>album_set3</code>:"
      ]
    },
    {
      "cell_type": "code",
      "metadata": {
        "id": "aB4TOM0b5KF7",
        "colab_type": "code",
        "outputId": "56c6f2dc-0993-41f0-d01b-c97139ad339d",
        "colab": {
          "base_uri": "https://localhost:8080/",
          "height": 34
        }
      },
      "source": [
        "# Write your code below and press Shift+Enter to execute\n",
        "album_set1.issubset(album_set2)"
      ],
      "execution_count": 0,
      "outputs": [
        {
          "output_type": "execute_result",
          "data": {
            "text/plain": [
              "False"
            ]
          },
          "metadata": {
            "tags": []
          },
          "execution_count": 67
        }
      ]
    },
    {
      "cell_type": "markdown",
      "metadata": {
        "id": "_TdQ2WnO5KGR",
        "colab_type": "text"
      },
      "source": [
        "<h2 id=\"quiz\">Quiz on Dictionaries</h2>\n",
        "\n",
        "<b>You will need this dictionary for the next two questions:</b>"
      ]
    },
    {
      "cell_type": "code",
      "metadata": {
        "id": "l7i_mm-D5KGU",
        "colab_type": "code",
        "colab": {}
      },
      "source": [
        "# Question sample dictionary\n",
        "soundtrack_dict = {\"The Bodyguard\":\"1992\",\"Saturday Night Fever\":\"1977\"}"
      ],
      "execution_count": 0,
      "outputs": []
    },
    {
      "cell_type": "markdown",
      "metadata": {
        "id": "rdLT7zmX5KGj",
        "colab_type": "text"
      },
      "source": [
        "a) In the dictionary <code>soundtrack_dict</code> what are the keys ?"
      ]
    },
    {
      "cell_type": "code",
      "metadata": {
        "id": "oMJ6Bu9U5KGm",
        "colab_type": "code",
        "outputId": "ed60a5c8-c9db-47e3-a6b6-3b05c6200387",
        "colab": {
          "base_uri": "https://localhost:8080/",
          "height": 34
        }
      },
      "source": [
        "# Write your code below and press Shift+Enter to execute\n",
        "# The Keys \"The Bodyguard\" and \"Saturday Night Fever\" \n",
        "soundtrack_dict.keys()"
      ],
      "execution_count": 0,
      "outputs": [
        {
          "output_type": "execute_result",
          "data": {
            "text/plain": [
              "dict_keys(['The Bodyguard', 'Saturday Night Fever'])"
            ]
          },
          "metadata": {
            "tags": []
          },
          "execution_count": 2
        }
      ]
    },
    {
      "cell_type": "markdown",
      "metadata": {
        "id": "Rb6kjd8w5KG4",
        "colab_type": "text"
      },
      "source": [
        "b) In the dictionary <code>soundtrack_dict</code> what are the values ?"
      ]
    },
    {
      "cell_type": "code",
      "metadata": {
        "id": "D9LXBvfz5KG7",
        "colab_type": "code",
        "outputId": "368f8669-ff60-4de8-b27c-03ecd7e63c29",
        "colab": {
          "base_uri": "https://localhost:8080/",
          "height": 34
        }
      },
      "source": [
        "# Write your code below and press Shift+Enter to execute\n",
        "# The values are \"1992\" and \"1977\"\n",
        "soundtrack_dict.values()"
      ],
      "execution_count": 0,
      "outputs": [
        {
          "output_type": "execute_result",
          "data": {
            "text/plain": [
              "dict_values(['1992', '1977'])"
            ]
          },
          "metadata": {
            "tags": []
          },
          "execution_count": 3
        }
      ]
    },
    {
      "cell_type": "markdown",
      "metadata": {
        "id": "Ojwo5l8_5KHK",
        "colab_type": "text"
      },
      "source": [
        "<b>You will need this dictionary for the following questions:</b>\n",
        "\n",
        "The Albums <b>Back in Black</b>, <b>The Bodyguard</b> and <b>Thriller</b> have the following music recording sales in millions 50, 50 and 65 respectively:\n",
        "\n",
        "a) Create a dictionary <code>album_sales_dict</code> where the keys are the album name and the sales in millions are the values. "
      ]
    },
    {
      "cell_type": "code",
      "metadata": {
        "id": "9Dr1vRod5KHP",
        "colab_type": "code",
        "colab": {}
      },
      "source": [
        "# Write your code below and press Shift+Enter to execute\n",
        "album_sales_dict={\"Back in Black\":50,\"The Bodyguard\":50,\"Thriller\":65}"
      ],
      "execution_count": 0,
      "outputs": []
    },
    {
      "cell_type": "markdown",
      "metadata": {
        "id": "JSejdQOv5KHa",
        "colab_type": "text"
      },
      "source": [
        "b) Use the dictionary to find the total sales of <b>Thriller</b>:"
      ]
    },
    {
      "cell_type": "code",
      "metadata": {
        "id": "yXKgBBz05KH7",
        "colab_type": "code",
        "outputId": "48aafb88-67bc-4079-a4ec-fcf75edc1ca9",
        "colab": {
          "base_uri": "https://localhost:8080/",
          "height": 34
        }
      },
      "source": [
        "# Write your code below and press Shift+Enter to execute\n",
        "album_sales_dict[\"Thriller\"]"
      ],
      "execution_count": 0,
      "outputs": [
        {
          "output_type": "execute_result",
          "data": {
            "text/plain": [
              "65"
            ]
          },
          "metadata": {
            "tags": []
          },
          "execution_count": 2
        }
      ]
    },
    {
      "cell_type": "markdown",
      "metadata": {
        "id": "7dO6MXFh5KIQ",
        "colab_type": "text"
      },
      "source": [
        "c) Find the names of the albums from the dictionary using the method <code>keys</code>:"
      ]
    },
    {
      "cell_type": "code",
      "metadata": {
        "id": "qK5W5XuM5KIY",
        "colab_type": "code",
        "outputId": "5c97dc3d-fe92-4666-b4a5-0dd9df3db57c",
        "colab": {
          "base_uri": "https://localhost:8080/",
          "height": 34
        }
      },
      "source": [
        "# Write your code below and press Shift+Enter to execute\n",
        "album_sales_dict.keys()"
      ],
      "execution_count": 0,
      "outputs": [
        {
          "output_type": "execute_result",
          "data": {
            "text/plain": [
              "dict_keys(['Back in Black', 'The Bodyguard', 'Thriller'])"
            ]
          },
          "metadata": {
            "tags": []
          },
          "execution_count": 3
        }
      ]
    },
    {
      "cell_type": "markdown",
      "metadata": {
        "id": "QvfQiuDB5KJN",
        "colab_type": "text"
      },
      "source": [
        "d) Find the names of the recording sales from the dictionary using the method <code>values</code>:"
      ]
    },
    {
      "cell_type": "code",
      "metadata": {
        "id": "LjMSSH8A5KJR",
        "colab_type": "code",
        "outputId": "8165f3f0-9fdd-432c-bef3-fe47f0e42ced",
        "colab": {
          "base_uri": "https://localhost:8080/",
          "height": 34
        }
      },
      "source": [
        "# Write your code below and press Shift+Enter to execute\n",
        "album_sales_dict.values()"
      ],
      "execution_count": 0,
      "outputs": [
        {
          "output_type": "execute_result",
          "data": {
            "text/plain": [
              "dict_values([50, 50, 65])"
            ]
          },
          "metadata": {
            "tags": []
          },
          "execution_count": 4
        }
      ]
    },
    {
      "cell_type": "markdown",
      "metadata": {
        "id": "m6kW03Oi5KJu",
        "colab_type": "text"
      },
      "source": [
        "<h2 id=\"quiz\">Quiz on Conditions</h2>\n",
        "\n",
        "Write an if statement to determine if an album had a rating greater than 8. Test it using the rating for the album <b>“Back in Black”</b> that had a rating of 8.5. If the statement is true print \"This album is Amazing!\""
      ]
    },
    {
      "cell_type": "code",
      "metadata": {
        "id": "88Mk_Bxk5KJ0",
        "colab_type": "code",
        "outputId": "cb5e2c20-c177-4404-bf7a-c6f4ee8c8d99",
        "colab": {
          "base_uri": "https://localhost:8080/",
          "height": 34
        }
      },
      "source": [
        "# Write your code below and press Shift+Enter to execute\n",
        "album_rating_dict = {\"Back in Black\":8.5}\n",
        "if album_rating_dict[\"Back in Black\"] > 8: print(\"This album is Amazing!\")"
      ],
      "execution_count": 0,
      "outputs": [
        {
          "output_type": "stream",
          "text": [
            "This album is Amazing!\n"
          ],
          "name": "stdout"
        }
      ]
    },
    {
      "cell_type": "markdown",
      "metadata": {
        "id": "A8yAtarA5KKL",
        "colab_type": "text"
      },
      "source": [
        "Write an if-else statement that performs the following. If the rating is larger then eight print “this album is amazing”. If the rating is less than or equal to 8 print “this album is ok”."
      ]
    },
    {
      "cell_type": "code",
      "metadata": {
        "id": "gcxnuBwS5KKN",
        "colab_type": "code",
        "outputId": "906ec984-89f3-4a6e-9dff-d3cde0b7c7cb",
        "colab": {
          "base_uri": "https://localhost:8080/",
          "height": 34
        }
      },
      "source": [
        "# Write your code below and press Shift+Enter to execute\n",
        "album_rating_dict = {\"Back in Black\":8.5}\n",
        "print(\"This album is Amazing!\") if album_rating_dict[\"Back in Black\"] > 8 else print(\"this album is ok\")"
      ],
      "execution_count": 0,
      "outputs": [
        {
          "output_type": "stream",
          "text": [
            "This album is Amazing!\n"
          ],
          "name": "stdout"
        }
      ]
    },
    {
      "cell_type": "markdown",
      "metadata": {
        "id": "2xOa7y2o5KKa",
        "colab_type": "text"
      },
      "source": [
        "Write an if statement to determine if an album came out before 1980 or in the years: 1991 or 1993. If the condition is true print out the year the album came out."
      ]
    },
    {
      "cell_type": "code",
      "metadata": {
        "id": "3yHlbtX-5KKd",
        "colab_type": "code",
        "outputId": "6c466a61-6aec-4d59-c8cf-abb6d5370a8e",
        "colab": {
          "base_uri": "https://localhost:8080/",
          "height": 34
        }
      },
      "source": [
        "# Write your code below and press Shift+Enter to execute\n",
        "yr_released = 1993\n",
        "if yr_released < 1980 or yr_released in [1991,1993]: print(yr_released)\n"
      ],
      "execution_count": 0,
      "outputs": [
        {
          "output_type": "stream",
          "text": [
            "1993\n"
          ],
          "name": "stdout"
        }
      ]
    },
    {
      "cell_type": "markdown",
      "metadata": {
        "id": "dLXuyore5KKp",
        "colab_type": "text"
      },
      "source": [
        "<h2 id=\"quiz\">Quiz on Loops</h2>\n",
        "\n",
        "Write a <code>for</code> loop the prints out all the element between <b>-5</b> and <b>5</b> using the range function."
      ]
    },
    {
      "cell_type": "code",
      "metadata": {
        "id": "yOLRE-Qa5KK7",
        "colab_type": "code",
        "outputId": "b17252e3-dc83-47c6-ef28-fd87ad129c77",
        "colab": {
          "base_uri": "https://localhost:8080/",
          "height": 170
        }
      },
      "source": [
        "# Write your code below and press Shift+Enter to execute\n",
        "for element in range(-4,5):print(element)"
      ],
      "execution_count": 0,
      "outputs": [
        {
          "output_type": "stream",
          "text": [
            "-4\n",
            "-3\n",
            "-2\n",
            "-1\n",
            "0\n",
            "1\n",
            "2\n",
            "3\n",
            "4\n"
          ],
          "name": "stdout"
        }
      ]
    },
    {
      "cell_type": "markdown",
      "metadata": {
        "id": "64UQ6CxY5KLJ",
        "colab_type": "text"
      },
      "source": [
        "Print the elements of the following list:\n",
        "<code>Genres=[ 'rock', 'R&B', 'Soundtrack', 'R&B', 'soul', 'pop']</code>\n",
        "Make sure you follow Python conventions."
      ]
    },
    {
      "cell_type": "code",
      "metadata": {
        "id": "XKGbZ4dU5KLL",
        "colab_type": "code",
        "outputId": "a65e0c5d-05f4-4e5e-ac6e-015134faa2b5",
        "colab": {
          "base_uri": "https://localhost:8080/",
          "height": 119
        }
      },
      "source": [
        "# Write your code below and press Shift+Enter to execute\n",
        "Genres=[ 'rock', 'R&B', 'Soundtrack', 'R&B', 'soul', 'pop']\n",
        "for Genre in Genres: print(Genre)"
      ],
      "execution_count": 0,
      "outputs": [
        {
          "output_type": "stream",
          "text": [
            "rock\n",
            "R&B\n",
            "Soundtrack\n",
            "R&B\n",
            "soul\n",
            "pop\n"
          ],
          "name": "stdout"
        }
      ]
    },
    {
      "cell_type": "markdown",
      "metadata": {
        "id": "YNbnGqvI5KLd",
        "colab_type": "text"
      },
      "source": [
        "Write a for loop that prints out the following list: <code>squares=['red', 'yellow', 'green', 'purple', 'blue']</code>"
      ]
    },
    {
      "cell_type": "code",
      "metadata": {
        "id": "PFtbjSO25KLh",
        "colab_type": "code",
        "outputId": "11f4f177-3d59-46c0-e6d1-393215a999e0",
        "colab": {
          "base_uri": "https://localhost:8080/",
          "height": 102
        }
      },
      "source": [
        "# Write your code below and press Shift+Enter to execute\n",
        "squares=['red', 'yellow', 'green', 'purple', 'blue']\n",
        "for square in squares: print(square)"
      ],
      "execution_count": 0,
      "outputs": [
        {
          "output_type": "stream",
          "text": [
            "red\n",
            "yellow\n",
            "green\n",
            "purple\n",
            "blue\n"
          ],
          "name": "stdout"
        }
      ]
    },
    {
      "cell_type": "markdown",
      "metadata": {
        "id": "FJ96ul5p5KLu",
        "colab_type": "text"
      },
      "source": [
        "Write a while loop to display the values of the Rating of an album playlist stored in the list <code>PlayListRatings</code>. If the score is less than 6, exit the loop. The list <code>PlayListRatings</code> is given by: <code>PlayListRatings = [10, 9.5, 10, 8, 7.5, 5, 10, 10]</code>"
      ]
    },
    {
      "cell_type": "code",
      "metadata": {
        "id": "ohFopIMU5KL_",
        "colab_type": "code",
        "outputId": "c5738947-056e-4d32-f29e-aa0f8f5b2034",
        "colab": {
          "base_uri": "https://localhost:8080/",
          "height": 102
        }
      },
      "source": [
        "# Write your code below and press Shift+Enter to execute\n",
        "PlayListRatings = [10, 9.5, 10, 8, 7.5, 5, 10, 10]\n",
        "idx = 0\n",
        "while True: \n",
        "  if PlayListRatings[idx] < 6:\n",
        "    break  \n",
        "  else:\n",
        "    print(PlayListRatings[idx])\n",
        "  idx+=1"
      ],
      "execution_count": 0,
      "outputs": [
        {
          "output_type": "stream",
          "text": [
            "10\n",
            "9.5\n",
            "10\n",
            "8\n",
            "7.5\n"
          ],
          "name": "stdout"
        }
      ]
    },
    {
      "cell_type": "markdown",
      "metadata": {
        "id": "IV2Juref5KNI",
        "colab_type": "text"
      },
      "source": [
        "Write a while loop to copy the strings <code>'orange'</code> of the list <code>squares</code> to the list <code>new_squares</code>. Stop and exit the loop if the value on the list is not <code>'orange'</code>:"
      ]
    },
    {
      "cell_type": "code",
      "metadata": {
        "id": "U9cmyzQE5KNP",
        "colab_type": "code",
        "outputId": "849ba16f-9baa-4332-de15-9421afce0c7c",
        "colab": {
          "base_uri": "https://localhost:8080/",
          "height": 34
        }
      },
      "source": [
        "# Write your code below and press Shift+Enter to execute\n",
        "squares=['orange', 'yellow', 'orange','green', 'purple', 'blue']\n",
        "new_squares=[]\n",
        "idx = 0\n",
        "while True:\n",
        "  if squares[idx]=='orange':\n",
        "    new_squares.append(squares[idx])\n",
        "  else:\n",
        "    break\n",
        "  idx+=1\n",
        "  \n",
        "new_squares"
      ],
      "execution_count": 0,
      "outputs": [
        {
          "output_type": "execute_result",
          "data": {
            "text/plain": [
              "['orange']"
            ]
          },
          "metadata": {
            "tags": []
          },
          "execution_count": 35
        }
      ]
    },
    {
      "cell_type": "markdown",
      "metadata": {
        "id": "XU44vexE5KNe",
        "colab_type": "text"
      },
      "source": [
        "<h2>Quiz on Functions</h2>\n",
        "\n",
        "Come up with a function that divides the first input by the second input:"
      ]
    },
    {
      "cell_type": "code",
      "metadata": {
        "id": "2iGpbfWB5KNi",
        "colab_type": "code",
        "outputId": "da51192f-bcca-4eda-bb4f-6021fd638771",
        "colab": {
          "base_uri": "https://localhost:8080/",
          "height": 34
        }
      },
      "source": [
        "# Write your code below and press Shift+Enter to execute\n",
        "def divided(first_input, second_input):\n",
        "  try:\n",
        "    quotient = first_input/second_input\n",
        "    return quotient\n",
        "  except ZeroDivisionError:\n",
        "    print(\"Math Error! You cannot divide by a zero number.\")\n",
        "divided(3,2)"
      ],
      "execution_count": 0,
      "outputs": [
        {
          "output_type": "execute_result",
          "data": {
            "text/plain": [
              "1.5"
            ]
          },
          "metadata": {
            "tags": []
          },
          "execution_count": 43
        }
      ]
    },
    {
      "cell_type": "markdown",
      "metadata": {
        "id": "5uxXdxqK5KOZ",
        "colab_type": "text"
      },
      "source": [
        "Use the function <code>con</code> for the following question."
      ]
    },
    {
      "cell_type": "code",
      "metadata": {
        "id": "LV3inZGH5KOv",
        "colab_type": "code",
        "outputId": "cd7d6772-8ef8-4f93-c928-07d2ba944726",
        "colab": {
          "base_uri": "https://localhost:8080/",
          "height": 34
        }
      },
      "source": [
        "# Use the con function for the following question\n",
        "\"\"\"Where is the con function?\"\"\""
      ],
      "execution_count": 0,
      "outputs": [
        {
          "output_type": "execute_result",
          "data": {
            "text/plain": [
              "'Where is the con function?'"
            ]
          },
          "metadata": {
            "tags": []
          },
          "execution_count": 44
        }
      ]
    },
    {
      "cell_type": "markdown",
      "metadata": {
        "id": "ljCA-AWU5KO2",
        "colab_type": "text"
      },
      "source": [
        "Can the <code>con</code> function we defined before be used to add to integers or strings?"
      ]
    },
    {
      "cell_type": "code",
      "metadata": {
        "id": "5Nlh_iN-5KO4",
        "colab_type": "code",
        "outputId": "5da4c575-972b-44f1-ae0c-b14cf141401b",
        "colab": {
          "base_uri": "https://localhost:8080/",
          "height": 34
        }
      },
      "source": [
        "# Write your code below and press Shift+Enter to execute\n",
        "\"\"\"Where is the con function?\"\"\""
      ],
      "execution_count": 0,
      "outputs": [
        {
          "output_type": "execute_result",
          "data": {
            "text/plain": [
              "'Where is the con function?'"
            ]
          },
          "metadata": {
            "tags": []
          },
          "execution_count": 45
        }
      ]
    },
    {
      "cell_type": "markdown",
      "metadata": {
        "id": "HTFFn7hX5KPA",
        "colab_type": "text"
      },
      "source": [
        "Can the <code>con</code> function we defined before be used to concentrate a list or tuple?"
      ]
    },
    {
      "cell_type": "code",
      "metadata": {
        "id": "J6CxA5mo5KPC",
        "colab_type": "code",
        "outputId": "e4e9de7d-c893-487a-e250-3a8fe1561761",
        "colab": {
          "base_uri": "https://localhost:8080/",
          "height": 34
        }
      },
      "source": [
        "# Write your code below and press Shift+Enter to execute\n",
        "\"\"\"Where is the con function?\"\"\""
      ],
      "execution_count": 0,
      "outputs": [
        {
          "output_type": "execute_result",
          "data": {
            "text/plain": [
              "'Where is the con function?'"
            ]
          },
          "metadata": {
            "tags": []
          },
          "execution_count": 46
        }
      ]
    },
    {
      "cell_type": "markdown",
      "metadata": {
        "id": "Ujn8F3iv5KPT",
        "colab_type": "text"
      },
      "source": [
        "<h2 id=\"quiz\">Quiz on 1D Numpy Array</h2>\n",
        "\n",
        "Implement the following vector subtraction in numpy: u-v"
      ]
    },
    {
      "cell_type": "code",
      "metadata": {
        "id": "oEB8yc8_5KPX",
        "colab_type": "code",
        "colab": {}
      },
      "source": [
        "# Write your code below and press Shift+Enter to execute\n",
        "\"\"\"where's u & v?\"\"\""
      ],
      "execution_count": 0,
      "outputs": []
    },
    {
      "cell_type": "markdown",
      "metadata": {
        "id": "8O5iMxGY5KPk",
        "colab_type": "text"
      },
      "source": [
        "Multiply the numpy array z with -2:"
      ]
    },
    {
      "cell_type": "code",
      "metadata": {
        "id": "Vl5ZChVQ5KPp",
        "colab_type": "code",
        "colab": {}
      },
      "source": [
        "# Write your code below and press Shift+Enter to execute"
      ],
      "execution_count": 0,
      "outputs": []
    },
    {
      "cell_type": "markdown",
      "metadata": {
        "id": "-YtjrQnt5KP5",
        "colab_type": "text"
      },
      "source": [
        "Consider the list <code>[1, 2, 3, 4, 5]</code> and <code>[1, 0, 1, 0, 1]</code>, and cast both lists to a numpy array then multiply them together:"
      ]
    },
    {
      "cell_type": "code",
      "metadata": {
        "id": "FKZzC61Z5KP7",
        "colab_type": "code",
        "colab": {}
      },
      "source": [
        "# Write your code below and press Shift+Enter to execute"
      ],
      "execution_count": 0,
      "outputs": []
    },
    {
      "cell_type": "markdown",
      "metadata": {
        "id": "xS87SEbq5KQV",
        "colab_type": "text"
      },
      "source": [
        "Convert the list <code>[-1, 1]</code> and <code>[1, 1]</code> to numpy arrays <code>a</code> and <code>b</code>.  Then, plot the arrays as vectors using the fuction <code>Plotvec2</code> and find the dot product:"
      ]
    },
    {
      "cell_type": "code",
      "metadata": {
        "id": "Pl0fMa895KQW",
        "colab_type": "code",
        "colab": {}
      },
      "source": [
        "# Write your code below and press Shift+Enter to execute"
      ],
      "execution_count": 0,
      "outputs": []
    },
    {
      "cell_type": "markdown",
      "metadata": {
        "id": "1fY0fV-c5KQn",
        "colab_type": "text"
      },
      "source": [
        "Convert the list <code>[1, 0]</code> and <code>[0, 1]</code> to numpy arrays <code>a</code> and <code>b</code>. Then, plot the arrays as vectors using the function <code>Plotvec2</code> and find the dot product:"
      ]
    },
    {
      "cell_type": "code",
      "metadata": {
        "id": "iNq5Q3Ru5KQs",
        "colab_type": "code",
        "colab": {}
      },
      "source": [
        "# Write your code below and press Shift+Enter to execute"
      ],
      "execution_count": 0,
      "outputs": []
    },
    {
      "cell_type": "markdown",
      "metadata": {
        "id": "ocS9cp8b5KQ2",
        "colab_type": "text"
      },
      "source": [
        "Convert the list <code>[1, 1]</code> and <code>[0, 1]</code> to numpy arrays <code>a</code> and <code>b</code>. Then plot the arrays as vectors using the fuction <code>Plotvec2</code> and find the dot product:"
      ]
    },
    {
      "cell_type": "code",
      "metadata": {
        "id": "H0X1qhew5KQ5",
        "colab_type": "code",
        "colab": {}
      },
      "source": [
        "# Write your code below and press Shift+Enter to execute"
      ],
      "execution_count": 0,
      "outputs": []
    },
    {
      "cell_type": "markdown",
      "metadata": {
        "id": "FsCmEjkf5KRG",
        "colab_type": "text"
      },
      "source": [
        "Why are the results of the dot product for <code>[-1, 1]</code> and <code>[1, 1]</code> and the dot product for <code>[1, 0]</code> and <code>[0, 1]</code> zero, but not zero for the dot product for <code>[1, 1]</code> and <code>[0, 1]</code>? <p><i>Hint: Study the corresponding figures, pay attention to the direction the arrows are pointing to.</i></p>"
      ]
    },
    {
      "cell_type": "code",
      "metadata": {
        "id": "k7tozWJH5KRI",
        "colab_type": "code",
        "colab": {}
      },
      "source": [
        "# Write your code below and press Shift+Enter to execute\n",
        "#The vectors used for question 4 and 5 are perpendicular. As a result, the dot product is zero. "
      ],
      "execution_count": 0,
      "outputs": []
    }
  ]
}